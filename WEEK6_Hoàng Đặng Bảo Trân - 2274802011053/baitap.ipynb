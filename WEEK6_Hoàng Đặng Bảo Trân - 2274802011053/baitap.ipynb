{
 "cells": [
  {
   "cell_type": "code",
   "execution_count": 15,
   "metadata": {},
   "outputs": [
    {
     "name": "stdout",
     "output_type": "stream",
     "text": [
      "Mean Square Error: 0.08362500369548798\n",
      "Binary Entropy Loss: 0.7481064796447754\n",
      "Cross Entropy Loss: 2.2507400512695312\n",
      "Sigmoid = tensor([0.7311, 0.9933, 0.0180, 0.9526, 0.1192])\n",
      "Relu = tensor([1., 5., 0., 3., 0.])\n",
      "Softmax = tensor([1.5862e-02, 8.6604e-01, 1.0688e-04, 1.1721e-01, 7.8972e-04])\n",
      "Tanh = tensor([ 0.7616,  0.9999, -0.9993,  0.9951, -0.9640])\n"
     ]
    }
   ],
   "source": [
    "import torch\n",
    "\n",
    "# Công thức tính CrossEntropy Loss\n",
    "def crossEntropyLoss(output, target):\n",
    "    # Cross Entropy cho phân loại đa lớp yêu cầu softmax đầu ra\n",
    "    output = softmax(output)  # Sử dụng hàm softmax để chuẩn hóa đầu ra\n",
    "    return -torch.mean(torch.sum(target * torch.log(output + 1e-12), dim=0))\n",
    "\n",
    "# Công thức tính Mean Square Error\n",
    "def meanSquareError(output, target):\n",
    "    return torch.mean((output - target) ** 2)\n",
    "\n",
    "# Công thức tính Binary Cross Entropy Loss\n",
    "def binaryEntropyLoss(output, target):\n",
    "    output = sigmoid(output)  # Dùng sigmoid cho đầu ra nhị phân\n",
    "    return -torch.mean(target * torch.log(output + 1e-12) + (1 - target) * torch.log(1 - output + 1e-12))\n",
    "\n",
    "# Công thức hàm sigmoid\n",
    "def sigmoid(x: torch.Tensor):\n",
    "    return 1 / (1 + torch.exp(-x))\n",
    "\n",
    "# Công thức hàm relu\n",
    "def relu(x: torch.Tensor):\n",
    "    return torch.maximum(x, torch.tensor(0.0))\n",
    "\n",
    "# Công thức hàm softmax\n",
    "def softmax(zi: torch.Tensor):\n",
    "    exp_zi = torch.exp(zi - torch.max(zi))  # Để ổn định số học\n",
    "    return exp_zi / torch.sum(exp_zi)\n",
    "\n",
    "# Công thức hàm tanh\n",
    "def tanh(x: torch.Tensor):\n",
    "    return (torch.exp(x) - torch.exp(-x)) / (torch.exp(x) + torch.exp(-x))\n",
    "\n",
    "# Các giá trị đầu vào và mục tiêu\n",
    "inputs = torch.tensor([0.1, 0.3, 0.6, 0.7])\n",
    "target = torch.tensor([0.31, 0.32, 0.8, 0.2])\n",
    "\n",
    "# Tính toán các hàm mất mát\n",
    "mse = meanSquareError(inputs, target)\n",
    "binary_loss = binaryEntropyLoss(inputs, target)\n",
    "cross_loss = crossEntropyLoss(inputs, target)\n",
    "\n",
    "# Hiển thị kết quả các hàm mất mát\n",
    "print(f\"Mean Square Error: {mse}\")\n",
    "print(f\"Binary Entropy Loss: {binary_loss}\")\n",
    "print(f\"Cross Entropy Loss: {cross_loss}\")\n",
    "\n",
    "# Đầu vào mẫu cho các hàm kích hoạt\n",
    "x = torch.tensor([1.0, 5.0, -4.0, 3.0, -2.0])\n",
    "\n",
    "# Tính toán các hàm kích hoạt\n",
    "f_sigmoid = sigmoid(x)\n",
    "f_relu = relu(x)\n",
    "f_softmax = softmax(x)\n",
    "f_tanh = tanh(x)\n",
    "\n",
    "# Hiển thị kết quả các hàm kích hoạt\n",
    "print(f\"Sigmoid = {f_sigmoid}\")\n",
    "print(f\"Relu = {f_relu}\")\n",
    "print(f\"Softmax = {f_softmax}\")\n",
    "print(f\"Tanh = {f_tanh}\")\n",
    "\n",
    "\n"
   ]
  }
 ],
 "metadata": {
  "kernelspec": {
   "display_name": "Python 3",
   "language": "python",
   "name": "python3"
  },
  "language_info": {
   "codemirror_mode": {
    "name": "ipython",
    "version": 3
   },
   "file_extension": ".py",
   "mimetype": "text/x-python",
   "name": "python",
   "nbconvert_exporter": "python",
   "pygments_lexer": "ipython3",
   "version": "3.11.0"
  }
 },
 "nbformat": 4,
 "nbformat_minor": 2
}
