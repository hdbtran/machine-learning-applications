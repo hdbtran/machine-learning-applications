{
 "cells": [
  {
   "cell_type": "code",
   "execution_count": 1,
   "metadata": {},
   "outputs": [
    {
     "name": "stdout",
     "output_type": "stream",
     "text": [
      "Độ chính xác của mô hình: 0.9722222222222222\n",
      "Mẫu mới được dự đoán là lớp: setosa\n"
     ]
    }
   ],
   "source": [
    "from sklearn.datasets import load_iris\n",
    "from sklearn.model_selection import train_test_split\n",
    "from sklearn.naive_bayes import GaussianNB\n",
    "from sklearn.metrics import accuracy_score, classification_report\n",
    "# 1. Tải dữ liệu Iris\n",
    "iris = load_iris()\n",
    "X = iris.data\n",
    "y = iris.target\n",
    "# 2. Chia dữ liệu thành tập huấn luyện và kiểm tra\n",
    "X_train, X_test, y_train, y_test = train_test_split(X, y, test_size=0.475, random_state=42)\n",
    "# 3. Tạo mô hình Naive Bayes\n",
    "model = GaussianNB()\n",
    "# 4. Huấn luyện mô hình\n",
    "model.fit(X_train, y_train)\n",
    "# 5. Dự đoán trên tập kiểm tra\n",
    "y_prediction = model.predict(X_test)\n",
    "\n",
    "# 6. Đánh giá mô hình \n",
    "accuracy = accuracy_score(y_test, y_prediction)\n",
    "print(\"Độ chính xác của mô hình:\", accuracy)\n",
    "# 7. Dự đoán với một mẫu mới\n",
    "new_sample = [[5.1, 3.5, 1.4, 0.2]]\n",
    "predicted_class = model.predict(new_sample)\n",
    "print(f\"Mẫu mới được dự đoán là lớp: {iris.target_names[predicted_class[0]]}\")"
   ]
  }
 ],
 "metadata": {
  "kernelspec": {
   "display_name": "Python 3",
   "language": "python",
   "name": "python3"
  },
  "language_info": {
   "codemirror_mode": {
    "name": "ipython",
    "version": 3
   },
   "file_extension": ".py",
   "mimetype": "text/x-python",
   "name": "python",
   "nbconvert_exporter": "python",
   "pygments_lexer": "ipython3",
   "version": "3.11.0"
  }
 },
 "nbformat": 4,
 "nbformat_minor": 2
}
