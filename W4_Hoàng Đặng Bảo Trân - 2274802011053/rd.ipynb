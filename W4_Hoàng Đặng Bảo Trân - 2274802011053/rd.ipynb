{
 "cells": [
  {
   "cell_type": "code",
   "execution_count": 2,
   "metadata": {},
   "outputs": [
    {
     "name": "stdout",
     "output_type": "stream",
     "text": [
      "Dự đoán: [1 0 2 1 1 0 1 2 1 1 2 0 0 0 0 1 2 1 1 2 0 2 0 2 2 2 2 2 0 0]\n",
      "Dộ chính xác: 100.00%\n"
     ]
    }
   ],
   "source": [
    "import numpy as np\n",
    "import pandas as pd\n",
    "from sklearn.tree import DecisionTreeClassifier\n",
    "from sklearn.datasets import load_iris\n",
    "from sklearn.model_selection import train_test_split\n",
    "from sklearn.metrics import accuracy_score  # Thư viện để tính độ chính xác\n",
    "\n",
    "# Hàm lấy các mẫu dữ liệu ngẫu nhiên trong đó các phần tử có thể lặp lại (trùng nhau)\n",
    "def bootstrap(X, y):  # X là DataFrame, y là Series\n",
    "    n_sample = X.shape[0]\n",
    "    _id = np.random.choice(n_sample, n_sample, replace=True)  # Chọn ngẫu nhiên\n",
    "    return X.iloc[_id], y.iloc[_id]  # Lấy mẫu tương ứng từ X và y\n",
    "\n",
    "# Lớp RandomForest\n",
    "class RandomForest:\n",
    "    def __init__(self, n_trees=5, max_depth=10, min_samples_split=2, n_features=None):\n",
    "        self.n_trees = n_trees  # Số lượng cây cho dự đoán\n",
    "        self.max_depth = max_depth\n",
    "        self.min_samples_split = min_samples_split\n",
    "        self.n_features = n_features\n",
    "        self.trees = []\n",
    "\n",
    "    def fit(self, X, y):  # X là DataFrame, y là Series\n",
    "        self.trees = []  # Tạo danh sách chứa các cây\n",
    "        for i in range(self.n_trees):\n",
    "            # Tạo một cây quyết định cho mỗi giá trị i\n",
    "            tree = DecisionTreeClassifier(min_samples_split=self.min_samples_split, max_depth=self.max_depth)\n",
    "            X_sample, y_sample = bootstrap(X, y)  # Tạo mẫu ngẫu nhiên X và y\n",
    "            tree.fit(X_sample, y_sample)  # Huấn luyện cây\n",
    "            self.trees.append(tree)  # Thêm cây vào danh sách\n",
    "\n",
    "    def predict(self, X):  # X là DataFrame\n",
    "        # Lấy dự đoán từ từng cây\n",
    "        arr_pred = np.array([tree.predict(X) for tree in self.trees])\n",
    "        final_pred = []\n",
    "        for i in range(arr_pred.shape[1]): \n",
    "            sample_pred = arr_pred[:, i]  # Trả loại mảng\n",
    "            final_pred.append(self.most_value(pd.Series(sample_pred)))  # Dùng hàm most_value\n",
    "        return np.array(final_pred)  # Trả về giá trị dự đoán sau khi vote n cây\n",
    "\n",
    "    @staticmethod\n",
    "    def most_value(series):\n",
    "        return series.mode()[0]  # Trả về giá trị thường gặp nhất\n",
    "\n",
    "# Tải dữ liệu Iris\n",
    "data = load_iris()\n",
    "X = pd.DataFrame(data.data, columns=data.feature_names)\n",
    "y = pd.Series(data.target)\n",
    "\n",
    "# Chia tập dữ liệu thành tập huấn luyện và tập kiểm tra\n",
    "X_train, X_test, y_train, y_test = train_test_split(X, y, test_size=0.2, random_state=42)\n",
    "\n",
    "# Khởi tạo và huấn luyện mô hình RandomForest\n",
    "rf = RandomForest(n_trees=10, max_depth=5)\n",
    "rf.fit(X_train, y_train)\n",
    "\n",
    "# Dự đoán trên tập kiểm tra\n",
    "predictions = rf.predict(X_test)\n",
    "\n",
    "# Đánh giá mô hình\n",
    "accuracy = accuracy_score(y_test, predictions)  # Tính độ chính xác\n",
    "print(f'Dự đoán: {predictions}')\n",
    "print(f'Dộ chính xác: {accuracy * 100:.2f}%')\n"
   ]
  }
 ],
 "metadata": {
  "kernelspec": {
   "display_name": "Python 3",
   "language": "python",
   "name": "python3"
  },
  "language_info": {
   "codemirror_mode": {
    "name": "ipython",
    "version": 3
   },
   "file_extension": ".py",
   "mimetype": "text/x-python",
   "name": "python",
   "nbconvert_exporter": "python",
   "pygments_lexer": "ipython3",
   "version": "3.11.0"
  }
 },
 "nbformat": 4,
 "nbformat_minor": 2
}
